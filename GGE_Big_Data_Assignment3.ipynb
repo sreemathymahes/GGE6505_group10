{
  "nbformat": 4,
  "nbformat_minor": 0,
  "metadata": {
    "colab": {
      "provenance": []
    },
    "kernelspec": {
      "name": "python3",
      "display_name": "Python 3"
    },
    "language_info": {
      "name": "python"
    }
  },
  "cells": [
    {
      "cell_type": "markdown",
      "source": [
        "# GGE 6505/5405: DataAccessAssignment "
      ],
      "metadata": {
        "id": "eaDjAsZmUY63"
      }
    },
    {
      "cell_type": "markdown",
      "source": [
        "The Google Maps API is a set of online tools that Google offers to software developers, enabling them to incorporate Google Maps into their applications. The API includes various capabilities and services that facilitate map-related tasks, such as showing maps, placing markers, generating driving directions, and searching for locations\n"
      ],
      "metadata": {
        "id": "5h0jyCRJUxhg"
      }
    },
    {
      "cell_type": "markdown",
      "source": [
        "To use Google Maps Platform, you must have a project in google cloud platform to manage services, credentials, billing, APIs, and SDKs.\n",
        "Follow the below link for details: https://developers.google.com/maps/documentation/javascript/cloud-setup\n",
        "\n",
        "After creating a project, generate a API key for the project and set up the restriction (as needed).\n",
        "For more details: https://developers.google.com/maps/documentation/javascript/get-api-key\n",
        "\n"
      ],
      "metadata": {
        "id": "hhdzY3xB21wW"
      }
    },
    {
      "cell_type": "markdown",
      "source": [
        "The below code uses the Distance Matrix API under Google Map to find the shortest distance between the origin (UNB) and the destination (Regent Mall). \n"
      ],
      "metadata": {
        "id": "Od85itDZ2YdJ"
      }
    },
    {
      "cell_type": "code",
      "source": [
        "import requests\n",
        "\n",
        "# Set the origin and destination locations\n",
        "origin = \"University of New Brunswick, Fredericton, NB\"\n",
        "destination = \"Regent Mall, Fredericton, NB\"\n",
        "\n",
        "# Set up the Google Maps API endpoint URL\n",
        "url = \"https://maps.googleapis.com/maps/api/distancematrix/json\"\n",
        "\n",
        "# Set up the parameters for the API request\n",
        "params = {\n",
        "    \"units\": \"metric\",\n",
        "    \"origins\": origin,\n",
        "    \"destinations\": destination,\n",
        "    \"key\": \"YOUR_API_KEY\" #  YOUR_API_KEY with your actual API key\n",
        "}\n",
        "\n",
        "# Send the API request and get the response\n",
        "response = requests.get(url, params=params)\n",
        "data = response.json()\n",
        "\n",
        "print(data)"
      ],
      "metadata": {
        "colab": {
          "base_uri": "https://localhost:8080/"
        },
        "id": "zOdyUztz1EV4",
        "outputId": "25552ab0-d81f-47d6-a9fb-12437678a803"
      },
      "execution_count": null,
      "outputs": [
        {
          "output_type": "stream",
          "name": "stdout",
          "text": [
            "{'destination_addresses': ['1381 Regent St, Fredericton, NB E3C 1A2, Canada'], 'origin_addresses': ['3 Bailey Dr, Fredericton, NB E3B 5A3, Canada'], 'rows': [{'elements': [{'distance': {'text': '1.7 km', 'value': 1656}, 'duration': {'text': '4 mins', 'value': 215}, 'status': 'OK'}]}], 'status': 'OK'}\n",
            "The shortest distance between University of New Brunswick, Fredericton, NB and Regent Mall, Fredericton, NB is 1.7 km and the estimated travel time is 4 mins.\n"
          ]
        }
      ]
    },
    {
      "cell_type": "markdown",
      "source": [
        "We have downloaded the data in JSON format. Note that there are lots of key value pairs in the result. Now lets extract the required information from the data."
      ],
      "metadata": {
        "id": "45tfiUCh4P3_"
      }
    },
    {
      "cell_type": "code",
      "source": [
        "# Extract the shortest distance from the response data\n",
        "distance = data[\"rows\"][0][\"elements\"][0][\"distance\"][\"text\"]\n",
        "duration = data[\"rows\"][0][\"elements\"][0][\"duration\"][\"text\"]\n",
        "\n",
        "# Print the result\n",
        "print(f\"The shortest distance between {origin} and {destination} is {distance} and the estimated travel time is {duration}.\")"
      ],
      "metadata": {
        "id": "24i4hQOk4LZO"
      },
      "execution_count": null,
      "outputs": []
    },
    {
      "cell_type": "markdown",
      "source": [
        "# Format \n",
        "\n",
        "The Google Maps API generally returns data in JSON format by default, but some endpoints may support other formats such as XML.\n",
        "\n",
        "For example, the Google Places API supports both JSON and XML formats. To request data in XML format, you can include the output parameter in your API request and set its value to \"**xml**\", like this:"
      ],
      "metadata": {
        "id": "DK6tilCc7em9"
      }
    },
    {
      "cell_type": "code",
      "source": [
        "import requests\n",
        "\n",
        "# Set up the Google Places API endpoint URL\n",
        "url = \"https://maps.googleapis.com/maps/api/place/nearbysearch/xml\"\n",
        "\n",
        "# Set up the parameters for the API request\n",
        "params = {\n",
        "    \"location\": \"45.9636,-66.6431\", # Fredericton, NB coordinates\n",
        "    \"radius\": \"5000\",\n",
        "    \"type\": \"restaurant\",\n",
        "    \"keyword\": \"Indian food\",\n",
        "    \"key\": \"YOUR_API_KEY\", # Insert your API key\n",
        "    \"output\": \"xml\"\n",
        "}\n",
        "\n",
        "# Send the API request and get the response\n",
        "response = requests.get(url, params=params)\n",
        "\n",
        "# Save the results to a .xml file\n",
        "with open(\"indian_restaurants.xml\", \"w\") as file:\n",
        "    file.write(response.text)"
      ],
      "metadata": {
        "id": "ow4sgb4D7dMo"
      },
      "execution_count": null,
      "outputs": []
    },
    {
      "cell_type": "markdown",
      "source": [
        "\n",
        "\n",
        "> Downloading data in .txt format from the Google Maps API depends on the specific endpoint you are using. Here's an example of how to download the results of a Google Places API text search in a .txt file using Python:\n",
        "\n",
        "\n",
        "\n",
        "\n",
        "\n",
        "\n"
      ],
      "metadata": {
        "id": "kLmEyo798W0K"
      }
    },
    {
      "cell_type": "code",
      "source": [
        "import requests\n",
        "\n",
        "# Set the location and search query\n",
        "\n",
        "query = \"Indian restaurants in Fredericton, NB, Canada\"\n",
        "\n",
        "# Set up the Google Places API endpoint URL\n",
        "url = \"https://maps.googleapis.com/maps/api/place/textsearch/json\"\n",
        "\n",
        "# Set up the parameters for the API request\n",
        "params = {\n",
        "    \"query\": query,\n",
        "    \"radius\": 5000,\n",
        "    \"key\": \"YOUR_API_KEY\" # Insert your API key\n",
        "}\n",
        "\n",
        "# Send the API request and get the response\n",
        "response = requests.get(url, params)\n",
        "data = response.json()\n",
        "\n",
        "print(data)\n",
        "\n",
        "# Print the result\n",
        "for result in data[\"results\"]:\n",
        "    name = result[\"name\"]\n",
        "    address = result[\"formatted_address\"]\n",
        "    print(f\"{name}\\n{address}\\n\")"
      ],
      "metadata": {
        "colab": {
          "base_uri": "https://localhost:8080/"
        },
        "id": "gJnKRM1Q5Al_",
        "outputId": "2ed043af-ec48-47b2-cdd0-87f6eee83277"
      },
      "execution_count": null,
      "outputs": [
        {
          "output_type": "stream",
          "name": "stdout",
          "text": [
            "{'html_attributions': [], 'results': [{'business_status': 'OPERATIONAL', 'formatted_address': '343 York St, Fredericton, NB E3B 3P5, Canada', 'geometry': {'location': {'lat': 45.9576327, 'lng': -66.6480296}, 'viewport': {'northeast': {'lat': 45.95894922989272, 'lng': -66.64660127010728}, 'southwest': {'lat': 45.95624957010727, 'lng': -66.64930092989272}}}, 'icon': 'https://maps.gstatic.com/mapfiles/place_api/icons/v1/png_71/restaurant-71.png', 'icon_background_color': '#FF9E67', 'icon_mask_base_uri': 'https://maps.gstatic.com/mapfiles/place_api/icons/v2/restaurant_pinlet', 'name': 'Razia Kitchen Indian Restaurant', 'opening_hours': {'open_now': False}, 'photos': [{'height': 3648, 'html_attributions': ['<a href=\"https://maps.google.com/maps/contrib/100179457560619462919\">Andrew N. Byrne</a>'], 'photo_reference': 'AfLeUgMoogVOayUttz0sLZEM9neLMxKA6YvgIiUuY7Ju9AC-daKNVxbC_-p2x0LmmHlEiHjPW1BQ-UPz0xNSmfXG7BL0ZymONPKpN65x4OCqlnOWBYLibfOAxn7DUEKPujl4oBRIaLKMq9HqeY_89ExDF7ZmMStyvoraBdFz1Tb9ddRxoRsn', 'width': 2736}], 'place_id': 'ChIJS7-iNPYjpEwR8VERLzFj918', 'plus_code': {'compound_code': 'X952+3Q Fredericton, New Brunswick, Canada', 'global_code': '87QMX952+3Q'}, 'rating': 4.4, 'reference': 'ChIJS7-iNPYjpEwR8VERLzFj918', 'types': ['restaurant', 'food', 'point_of_interest', 'establishment'], 'user_ratings_total': 139}, {'business_status': 'OPERATIONAL', 'formatted_address': '29 Main St, Fredericton, NB E3A 1B7, Canada', 'geometry': {'location': {'lat': 45.9839426, 'lng': -66.66322980000001}, 'viewport': {'northeast': {'lat': 45.98525572989272, 'lng': -66.66196202010728}, 'southwest': {'lat': 45.98255607010728, 'lng': -66.66466167989273}}}, 'icon': 'https://maps.gstatic.com/mapfiles/place_api/icons/v1/png_71/restaurant-71.png', 'icon_background_color': '#FF9E67', 'icon_mask_base_uri': 'https://maps.gstatic.com/mapfiles/place_api/icons/v2/restaurant_pinlet', 'name': 'Shere Punjab Kitchen', 'opening_hours': {'open_now': False}, 'photos': [{'height': 3458, 'html_attributions': ['<a href=\"https://maps.google.com/maps/contrib/103559283937668441198\">Deepak Giri</a>'], 'photo_reference': 'AfLeUgN7f4Y6P19n2a6Um3u5dQk-nqd6VMvtYmphQi1pKZRVzpn9xez-7zxaTOXRgDLIapp8Bool2aK_g6Bot21BrdG__rN4hUl-kVkomJVuuuwBeMk5rXFNQmvIGGwWP1Pb5IgwwHQPhZwfwWr8tlOaQMdX0UO578xEf-zz7waDEYT_oisW', 'width': 3024}], 'place_id': 'ChIJR75LkBgZpEwRYQIHrMHEheA', 'plus_code': {'compound_code': 'X8MP+HP Fredericton, New Brunswick, Canada', 'global_code': '87QMX8MP+HP'}, 'rating': 4.4, 'reference': 'ChIJR75LkBgZpEwRYQIHrMHEheA', 'types': ['restaurant', 'food', 'point_of_interest', 'establishment'], 'user_ratings_total': 100}, {'business_status': 'OPERATIONAL', 'formatted_address': '207 King St, Fredericton, NB E3B 1E1, Canada', 'geometry': {'location': {'lat': 45.9641193, 'lng': -66.6480049}, 'viewport': {'northeast': {'lat': 45.96541417989273, 'lng': -66.64672307010729}, 'southwest': {'lat': 45.96271452010728, 'lng': -66.64942272989272}}}, 'icon': 'https://maps.gstatic.com/mapfiles/place_api/icons/v1/png_71/restaurant-71.png', 'icon_background_color': '#FF9E67', 'icon_mask_base_uri': 'https://maps.gstatic.com/mapfiles/place_api/icons/v2/restaurant_pinlet', 'name': 'Avatar Foodtruck', 'photos': [{'height': 3024, 'html_attributions': ['<a href=\"https://maps.google.com/maps/contrib/104255101003803111613\">Rob Cawthra</a>'], 'photo_reference': 'AfLeUgM5M6uPCLbJ6sUbOlv5V_NPEFiLZrqgnaK9kVn5O40LrKyY_BKyC75HgWStxr_uxr51dK2aSHYE2NB0pLs8bg-tPM6rpmbqpILwlytqChdC33WWwNVDY6kP0VesgOBzI0whphJJMA3Jwj0We6NyL5LrmnuuWRKxGa9IYNpltGwObzC-', 'width': 4032}], 'place_id': 'ChIJgaHuooYZpEwR5xX5gm6yZc0', 'plus_code': {'compound_code': 'X972+JQ Fredericton, New Brunswick, Canada', 'global_code': '87QMX972+JQ'}, 'rating': 4.6, 'reference': 'ChIJgaHuooYZpEwR5xX5gm6yZc0', 'types': ['restaurant', 'food', 'point_of_interest', 'establishment'], 'user_ratings_total': 15}, {'business_status': 'OPERATIONAL', 'formatted_address': '50 Crowther Ln #140, Fredericton, NB E3C 0J1, Canada', 'geometry': {'location': {'lat': 45.931723, 'lng': -66.6582556}, 'viewport': {'northeast': {'lat': 45.93309672989272, 'lng': -66.65696532010728}, 'southwest': {'lat': 45.93039707010728, 'lng': -66.65966497989272}}}, 'icon': 'https://maps.gstatic.com/mapfiles/place_api/icons/v1/png_71/restaurant-71.png', 'icon_background_color': '#FF9E67', 'icon_mask_base_uri': 'https://maps.gstatic.com/mapfiles/place_api/icons/v2/restaurant_pinlet', 'name': 'Master Indian Spice', 'place_id': 'ChIJYaQZ9ToipEwRrzyAfKWBi44', 'plus_code': {'compound_code': 'W8JR+MP Fredericton, New Brunswick, Canada', 'global_code': '87QMW8JR+MP'}, 'rating': 0, 'reference': 'ChIJYaQZ9ToipEwRrzyAfKWBi44', 'types': ['restaurant', 'food', 'point_of_interest', 'establishment'], 'user_ratings_total': 0}, {'business_status': 'OPERATIONAL', 'formatted_address': '123 York St, Fredericton, NB E3B 3N6, Canada', 'geometry': {'location': {'lat': 45.961689, 'lng': -66.6445142}, 'viewport': {'northeast': {'lat': 45.96295877989272, 'lng': -66.64312872010728}, 'southwest': {'lat': 45.96025912010727, 'lng': -66.64582837989272}}}, 'icon': 'https://maps.gstatic.com/mapfiles/place_api/icons/v1/png_71/restaurant-71.png', 'icon_background_color': '#FF9E67', 'icon_mask_base_uri': 'https://maps.gstatic.com/mapfiles/place_api/icons/v2/restaurant_pinlet', 'name': 'Caribbean Flavas Restaurant & Catering', 'opening_hours': {'open_now': False}, 'photos': [{'height': 2368, 'html_attributions': ['<a href=\"https://maps.google.com/maps/contrib/117896132573208603812\">Neil McFarlane</a>'], 'photo_reference': 'AfLeUgPw2i2CQi8G0OcI2T670SPcmq6dxuQNp-V0OGUEurDDvPKM79HF1IsGKjsGBxEsoIXFRHjD4vMuRunmaxs5R7K_L1cTyz7pfUJJ0bUAwuDv58d4H1y_5F__OslEdWsEA9dRWFX2wGrdmGrfiH5nBpsDESnHlDtdxFzKxNikK_EN4XeL', 'width': 3200}], 'place_id': 'ChIJac4fYZ8YpEwR4qPc42u1rqQ', 'plus_code': {'compound_code': 'X964+M5 Fredericton, New Brunswick, Canada', 'global_code': '87QMX964+M5'}, 'rating': 4.8, 'reference': 'ChIJac4fYZ8YpEwR4qPc42u1rqQ', 'types': ['restaurant', 'food', 'point_of_interest', 'establishment'], 'user_ratings_total': 247}, {'business_status': 'OPERATIONAL', 'formatted_address': '793 Windsor St, Fredericton, NB E3B 4G5, Canada', 'geometry': {'location': {'lat': 45.9459179, 'lng': -66.6465968}, 'viewport': {'northeast': {'lat': 45.94721822989272, 'lng': -66.64512287010727}, 'southwest': {'lat': 45.94451857010728, 'lng': -66.64782252989272}}}, 'icon': 'https://maps.gstatic.com/mapfiles/place_api/icons/v1/png_71/generic_business-71.png', 'icon_background_color': '#7B9EB0', 'icon_mask_base_uri': 'https://maps.gstatic.com/mapfiles/place_api/icons/v2/generic_pinlet', 'name': 'Yummy Samosas', 'opening_hours': {'open_now': True}, 'photos': [{'height': 639, 'html_attributions': ['<a href=\"https://maps.google.com/maps/contrib/108683761102805834511\">A Google User</a>'], 'photo_reference': 'AfLeUgPavOwnhsnkgbUWIexrcNNxL5wqBl7oGdEQmdzMJExjxHQPB7ixqaCHa5VKPFhFVFz11cYqwJrPRXOYr-6G6gDTeGaXloD5T5v5tN3mJfyOZOjL9vVbpS5258hYSbvCq9BBzm4A0IXZx70RS_JnC3poctpqDNP_x_eIAmPlP5depHfs', 'width': 960}], 'place_id': 'ChIJg3AhrBEipEwRjA7Ca9fQyaQ', 'plus_code': {'compound_code': 'W9W3+99 Fredericton, New Brunswick, Canada', 'global_code': '87QMW9W3+99'}, 'rating': 4.2, 'reference': 'ChIJg3AhrBEipEwRjA7Ca9fQyaQ', 'types': ['restaurant', 'food', 'point_of_interest', 'establishment'], 'user_ratings_total': 20}, {'business_status': 'OPERATIONAL', 'formatted_address': '469 King St, Fredericton, NB E3B 1E5, Canada', 'geometry': {'location': {'lat': 45.9615878, 'lng': -66.64238259999999}, 'viewport': {'northeast': {'lat': 45.96287897989272, 'lng': -66.64108102010728}, 'southwest': {'lat': 45.96017932010727, 'lng': -66.64378067989273}}}, 'icon': 'https://maps.gstatic.com/mapfiles/place_api/icons/v1/png_71/restaurant-71.png', 'icon_background_color': '#FF9E67', 'icon_mask_base_uri': 'https://maps.gstatic.com/mapfiles/place_api/icons/v2/restaurant_pinlet', 'name': 'Cinnamon Cafe', 'opening_hours': {'open_now': False}, 'photos': [{'height': 2268, 'html_attributions': ['<a href=\"https://maps.google.com/maps/contrib/117698064481949598296\">Steve Lee</a>'], 'photo_reference': 'AfLeUgPMJD-F5gvYPGImEkKFxCXS3m9WIJ7Aau8xH9gyycYfUsDs3hzJHI_E1RN2cPJ0aKpLkXvYrAO0aPGZI_qonf3ZD9j8RVwL-tIh63ODYkg2fhQS0BJ4Qh2qRlS4xXWDiijOiTQZ8G8R6uQD_Bo3neUfGMKc84_tiinFj1THprLKzcdp', 'width': 4032}], 'place_id': 'ChIJHQVV8qEYpEwRoKk0pAtzjlA', 'plus_code': {'compound_code': 'X965+M3 Fredericton, New Brunswick, Canada', 'global_code': '87QMX965+M3'}, 'price_level': 2, 'rating': 4.7, 'reference': 'ChIJHQVV8qEYpEwRoKk0pAtzjlA', 'types': ['cafe', 'store', 'restaurant', 'food', 'point_of_interest', 'establishment'], 'user_ratings_total': 250}, {'business_status': 'OPERATIONAL', 'formatted_address': '440 Kimble Dr, Fredericton, NB E3B 7G6, Canada', 'geometry': {'location': {'lat': 45.9301566, 'lng': -66.6289848}, 'viewport': {'northeast': {'lat': 45.93167672989272, 'lng': -66.62763417010727}, 'southwest': {'lat': 45.92897707010727, 'lng': -66.63033382989272}}}, 'icon': 'https://maps.gstatic.com/mapfiles/place_api/icons/v1/png_71/restaurant-71.png', 'icon_background_color': '#FF9E67', 'icon_mask_base_uri': 'https://maps.gstatic.com/mapfiles/place_api/icons/v2/restaurant_pinlet', 'name': 'Samosa Delite', 'opening_hours': {'open_now': False}, 'place_id': 'ChIJkdslNIwhpEwR9Hy2SczltFQ', 'plus_code': {'compound_code': 'W9JC+3C Fredericton, New Brunswick, Canada', 'global_code': '87QMW9JC+3C'}, 'rating': 3, 'reference': 'ChIJkdslNIwhpEwR9Hy2SczltFQ', 'types': ['restaurant', 'food', 'point_of_interest', 'establishment'], 'user_ratings_total': 4}, {'business_status': 'OPERATIONAL', 'formatted_address': '277 Main St, Fredericton, NB E3A 1E1, Canada', 'geometry': {'location': {'lat': 45.9762269, 'lng': -66.6473572}, 'viewport': {'northeast': {'lat': 45.97758357989272, 'lng': -66.64610047010729}, 'southwest': {'lat': 45.97488392010727, 'lng': -66.64880012989272}}}, 'icon': 'https://maps.gstatic.com/mapfiles/place_api/icons/v1/png_71/restaurant-71.png', 'icon_background_color': '#FF9E67', 'icon_mask_base_uri': 'https://maps.gstatic.com/mapfiles/place_api/icons/v2/restaurant_pinlet', 'name': 'Thai Spice Restaurant', 'opening_hours': {'open_now': False}, 'photos': [{'height': 3024, 'html_attributions': ['<a href=\"https://maps.google.com/maps/contrib/106174572916075023117\">Naravit Leaukosol</a>'], 'photo_reference': 'AfLeUgOLiwG2svSmu5h4uVE--MLT9n7DHCzMA1N28WUDha72nLIxPOj4ajy_oSfNMMg7iZibFx-_apRqaOw3AjKPzfDNN3FvxewKB6zBfY_rWcUMKUcjejJIPqFrwUJahwOA0NTTrN9NnN8Dxi03n5J67jpF9q4oKhekV703ExyHLYOK69G7', 'width': 4032}], 'place_id': 'ChIJv3hte40YpEwRqnJikBcTUVk', 'plus_code': {'compound_code': 'X9G3+F3 Fredericton, New Brunswick, Canada', 'global_code': '87QMX9G3+F3'}, 'rating': 4.3, 'reference': 'ChIJv3hte40YpEwRqnJikBcTUVk', 'types': ['restaurant', 'food', 'point_of_interest', 'establishment'], 'user_ratings_total': 122}, {'business_status': 'OPERATIONAL', 'formatted_address': '154 Main St, Fredericton, NB E3A 1C8, Canada', 'geometry': {'location': {'lat': 45.9782199, 'lng': -66.6539911}, 'viewport': {'northeast': {'lat': 45.97968302989273, 'lng': -66.65253792010728}, 'southwest': {'lat': 45.97698337010728, 'lng': -66.65523757989273}}}, 'icon': 'https://maps.gstatic.com/mapfiles/place_api/icons/v1/png_71/restaurant-71.png', 'icon_background_color': '#FF9E67', 'icon_mask_base_uri': 'https://maps.gstatic.com/mapfiles/place_api/icons/v2/restaurant_pinlet', 'name': 'Hana Ethiopian cafe & take-out', 'opening_hours': {'open_now': False}, 'photos': [{'height': 3456, 'html_attributions': ['<a href=\"https://maps.google.com/maps/contrib/111937239437596198578\">Juan Fernandez</a>'], 'photo_reference': 'AfLeUgMxaT0T2VBLMsE7hZp78Wgav4542LgIbxI76LO6Khe998KFXL4I3Yz3cUP_Akxy60n_c5rehLUN-5aXJHAlsqpWuuOQOxBigi9Df5X2G1wu_FGfvQ0-eQNe-skxaJtinvFWoZuLzdQONmTnVbh4ztCd891aY7kaGGmo8WAndK614jp_', 'width': 4608}], 'place_id': 'ChIJHcVYBiQZpEwRa6qi34hOhjU', 'plus_code': {'compound_code': 'X8HW+7C Fredericton, New Brunswick, Canada', 'global_code': '87QMX8HW+7C'}, 'rating': 4.9, 'reference': 'ChIJHcVYBiQZpEwRa6qi34hOhjU', 'types': ['restaurant', 'food', 'point_of_interest', 'establishment'], 'user_ratings_total': 90}, {'business_status': 'CLOSED_TEMPORARILY', 'formatted_address': '161 Main St, Fredericton, NB E3A 1C6, Canada', 'geometry': {'location': {'lat': 45.9787399, 'lng': -66.65388089999999}, 'viewport': {'northeast': {'lat': 45.97999892989273, 'lng': -66.65261117010728}, 'southwest': {'lat': 45.97729927010729, 'lng': -66.65531082989273}}}, 'icon': 'https://maps.gstatic.com/mapfiles/place_api/icons/v1/png_71/restaurant-71.png', 'icon_background_color': '#FF9E67', 'icon_mask_base_uri': 'https://maps.gstatic.com/mapfiles/place_api/icons/v2/restaurant_pinlet', 'name': 'Saffron Indian Foods', 'permanently_closed': True, 'photos': [{'height': 1564, 'html_attributions': ['<a href=\"https://maps.google.com/maps/contrib/104167581610828655659\">A Google User</a>'], 'photo_reference': 'AfLeUgPQjBzqIeoiTzLNuc2NnyobCdgeGGGCiCmOWN8U6A5uRyuQPLhhiXQ5pf53Amjjz53kcIMvvBPH9igyQrtLaNfEuabDD3hDWZ4SpLeF5-BWv_681P5vemmIJZ5MyehOtZ60r6nFDrKyyxDJYFD5KlOFu1Qvo8a1hyqP49eXGvHUTvPs', 'width': 1564}], 'place_id': 'ChIJE3kNBVoZpEwRMh5scPYvgCE', 'plus_code': {'compound_code': 'X8HW+FC Fredericton, New Brunswick, Canada', 'global_code': '87QMX8HW+FC'}, 'rating': 4.1, 'reference': 'ChIJE3kNBVoZpEwRMh5scPYvgCE', 'types': ['meal_takeaway', 'restaurant', 'food', 'point_of_interest', 'establishment'], 'user_ratings_total': 80}, {'business_status': 'CLOSED_TEMPORARILY', 'formatted_address': '546 King St unit 3, Fredericton, NB E3B 1E6, Canada', 'geometry': {'location': {'lat': 45.9604678, 'lng': -66.64111410000001}, 'viewport': {'northeast': {'lat': 45.96194637989272, 'lng': -66.63961692010729}, 'southwest': {'lat': 45.95924672010728, 'lng': -66.64231657989272}}}, 'icon': 'https://maps.gstatic.com/mapfiles/place_api/icons/v1/png_71/restaurant-71.png', 'icon_background_color': '#FF9E67', 'icon_mask_base_uri': 'https://maps.gstatic.com/mapfiles/place_api/icons/v2/restaurant_pinlet', 'name': 'Namaste Bistro Fredericton', 'permanently_closed': True, 'photos': [{'height': 3024, 'html_attributions': ['<a href=\"https://maps.google.com/maps/contrib/104078496166070434293\">Ren Shi</a>'], 'photo_reference': 'AfLeUgMgZUSmUnKjyBAOc55Wy8UTJ_QMuYsvwOhGqyJH8uBo-WpHXdgJIlmVXkVKLeepm1EsDllSJHZJ-k0909KKxmucjXTxDzlGcxleg1o8io7GEDrq_jYDFt-3WB1Ci6pJCwUamdkI23hRRtTD64s8ro9kH5veAHar11yUQKwFkhj3tGMw', 'width': 4032}], 'place_id': 'ChIJlZFgiX4ZpEwRB0VUBPn6yhg', 'plus_code': {'compound_code': 'X965+5H Fredericton, New Brunswick, Canada', 'global_code': '87QMX965+5H'}, 'rating': 3.9, 'reference': 'ChIJlZFgiX4ZpEwRB0VUBPn6yhg', 'types': ['restaurant', 'food', 'point_of_interest', 'establishment'], 'user_ratings_total': 90}], 'status': 'OK'}\n",
            "Razia Kitchen Indian Restaurant\n",
            "343 York St, Fredericton, NB E3B 3P5, Canada\n",
            "\n",
            "Shere Punjab Kitchen\n",
            "29 Main St, Fredericton, NB E3A 1B7, Canada\n",
            "\n",
            "Avatar Foodtruck\n",
            "207 King St, Fredericton, NB E3B 1E1, Canada\n",
            "\n",
            "Master Indian Spice\n",
            "50 Crowther Ln #140, Fredericton, NB E3C 0J1, Canada\n",
            "\n",
            "Caribbean Flavas Restaurant & Catering\n",
            "123 York St, Fredericton, NB E3B 3N6, Canada\n",
            "\n",
            "Yummy Samosas\n",
            "793 Windsor St, Fredericton, NB E3B 4G5, Canada\n",
            "\n",
            "Cinnamon Cafe\n",
            "469 King St, Fredericton, NB E3B 1E5, Canada\n",
            "\n",
            "Samosa Delite\n",
            "440 Kimble Dr, Fredericton, NB E3B 7G6, Canada\n",
            "\n",
            "Thai Spice Restaurant\n",
            "277 Main St, Fredericton, NB E3A 1E1, Canada\n",
            "\n",
            "Hana Ethiopian cafe & take-out\n",
            "154 Main St, Fredericton, NB E3A 1C8, Canada\n",
            "\n",
            "Saffron Indian Foods\n",
            "161 Main St, Fredericton, NB E3A 1C6, Canada\n",
            "\n",
            "Namaste Bistro Fredericton\n",
            "546 King St unit 3, Fredericton, NB E3B 1E6, Canada\n",
            "\n"
          ]
        }
      ]
    },
    {
      "cell_type": "markdown",
      "source": [
        "## FILTER"
      ],
      "metadata": {
        "id": "g6lDb6rechFp"
      }
    },
    {
      "cell_type": "markdown",
      "source": [
        "\n",
        "\n",
        "> **Geographical filter**:\n",
        "The Below code is similar to the above code except that it uses latitude and logitude for location instead of string under query. Also note that the radius is given as 5000 m (5km).\n",
        "\n"
      ],
      "metadata": {
        "id": "8Pj6UVJnS_3F"
      }
    },
    {
      "cell_type": "code",
      "execution_count": null,
      "metadata": {
        "colab": {
          "base_uri": "https://localhost:8080/"
        },
        "id": "nPe1tPWGMiwO",
        "outputId": "e8735516-b658-4bbf-c2c0-dc92de08800f"
      },
      "outputs": [
        {
          "output_type": "stream",
          "name": "stdout",
          "text": [
            "Shere Punjab Kitchen\n",
            "Razia Kitchen Indian Restaurant\n",
            "Avatar Foodtruck\n",
            "Master Indian Spice\n",
            "Yummy Samosas\n",
            "Saffron Indian Foods\n",
            "Narula's\n",
            "Caribbean Flavas Restaurant & Catering\n",
            "Namaste Bistro Fredericton\n",
            "Cafe Riverside\n",
            "Samosa Delite\n",
            "Thai Spice Restaurant\n",
            "The Midsea\n",
            "Cinnamon Cafe\n",
            "Byblos Restaurant & Bar\n",
            "J's Asian Kitchen(Downtown)\n",
            "Dimitri's\n",
            "Zaferon Catering\n",
            "Gahan House Riverside\n",
            "Dos Toros Taqueria and Tequila Bar\n"
          ]
        }
      ],
      "source": [
        "import requests\n",
        "\n",
        "# Set up parameters for the API call\n",
        "params = {\n",
        "    \"key\": \"YOUR_API_KEY\",\n",
        "    \"location\": \"45.9636,-66.6431\", # Fredericton's latitude and longitude\n",
        "    \"radius\": 5000, # Search radius in meters\n",
        "    \"type\": \"restaurant\",\n",
        "    \"keyword\": \"indian\"\n",
        "}\n",
        "\n",
        "# Make the API call and retrieve the response\n",
        "response = requests.get(\"https://maps.googleapis.com/maps/api/place/nearbysearch/json\", params=params)\n",
        "\n",
        "\n",
        "\n",
        "# Parse the response JSON data\n",
        "data = response.json()\n",
        "\n",
        "# Print the names of Indian restaurants in Fredericton\n",
        "for result in data[\"results\"]:\n",
        "    print(result[\"name\"])\n"
      ]
    },
    {
      "cell_type": "markdown",
      "source": [
        "\n",
        "\n",
        "> **ID Filter**: A place ID is a unique identifier that Google assigns to a particular place in its database. You can use a place ID to retrieve more information about a specific place, such as its name, address, photos, reviews, and other details.\n",
        "\n",
        "> To use a place ID in the Google Maps API, you can include it as a parameter in your API requests. Here's an example of how to use a place ID in Python with the Google Places API\n",
        "\n",
        "\n",
        "\n"
      ],
      "metadata": {
        "id": "fVrBEfhrcGiY"
      }
    },
    {
      "cell_type": "code",
      "source": [
        "import requests\n",
        "\n",
        "# Set up the Google Places API endpoint URL\n",
        "url = \"https://maps.googleapis.com/maps/api/place/details/json\"\n",
        "\n",
        "# Set up the parameters for the API request\n",
        "place_id = \"ChIJK_uYpAsipEwRtF1Beikv3uc\" # Replace with your actual place ID\n",
        "fields = \"name,formatted_address,photo\"\n",
        "params = {\n",
        "    \"place_id\": place_id,\n",
        "    \"fields\": fields,\n",
        "    \"key\": \"YOUR_API_KEY\" # Insert your API key\n",
        "}\n",
        "\n",
        "# Send the API request and get the response\n",
        "response = requests.get(url, params=params)\n",
        "data = response.json()\n",
        "print(data)\n",
        "# Print out the name, address, and photo of the place\n",
        "name = data[\"result\"][\"name\"]\n",
        "address = data[\"result\"][\"formatted_address\"]\n",
        "photo_reference = data[\"result\"][\"photos\"][0][\"photo_reference\"]\n",
        "photo_url = f\"https://maps.googleapis.com/maps/api/place/photo?maxwidth=400&photoreference={photo_reference}&key=YOUR_API_KEY\"\n",
        "print(f\"Name: {name}\")\n",
        "print(f\"Address: {address}\")\n",
        "print(f\"Photo URL: {photo_url}\")\n"
      ],
      "metadata": {
        "colab": {
          "base_uri": "https://localhost:8080/"
        },
        "id": "zNHWY2_LXzPT",
        "outputId": "9fc1d3d8-45aa-43b0-a966-67cc4bbc81f0"
      },
      "execution_count": null,
      "outputs": [
        {
          "output_type": "stream",
          "name": "stdout",
          "text": [
            "{'html_attributions': [], 'result': {'formatted_address': 'Fredericton, NB, Canada', 'name': 'Fredericton', 'photos': [{'height': 1080, 'html_attributions': ['<a href=\"https://maps.google.com/maps/contrib/115677059117269691596\">Luciano Toronto</a>'], 'photo_reference': 'AfLeUgOGjlidJQPxxYFVb9uiKAdJZZPJhVeGOmhNF94-eltOhaiThX9C2dJB_fgefXYpO9uYObzuIftNQvzh9-EjtSgDwaaW89p1iZvs1eoZnSHTGzYuyk4cXWMCVn7XE7weuz3vloe4jJnjJ9AemOngUUc-sWyukWvjGee6pRWes0r1iRIj', 'width': 1920}, {'height': 1080, 'html_attributions': ['<a href=\"https://maps.google.com/maps/contrib/115677059117269691596\">Luciano Toronto</a>'], 'photo_reference': 'AfLeUgMSNUydB6-3OhnsWz-ehm5xJpqA6PsOFI1P9VTTAkOmZJgjj2vtLhXLeNHOeNcS2HxYcS9W1z-hKHZaZE34qfvFrI58kCBs8_M3L_o4c_O6XOuUA5n62SX--eP82CYDE2_NbSx9R66ecq_vbDYgBBofXK8OOlz7oxer-qRidKnS9egY', 'width': 1920}, {'height': 1080, 'html_attributions': ['<a href=\"https://maps.google.com/maps/contrib/115677059117269691596\">Luciano Toronto</a>'], 'photo_reference': 'AfLeUgO_nZBtnhRbcXmyGc-OfO9hIl3Gy8tP75gNgfkf29lyjYzxF8am7Sk1_zRZu6BSGmEHamQXkjseBZKiXEuWJVgPn4PEmXibr7Ic8ogwlpnsiA_fTMxNmJgyCzNwbXoTNegrojKpISzvQguOvojh36fO6x1WDssr-51wQ_8wWFHurNWC', 'width': 1920}, {'height': 1080, 'html_attributions': ['<a href=\"https://maps.google.com/maps/contrib/115677059117269691596\">Luciano Toronto</a>'], 'photo_reference': 'AfLeUgM8EJ03_aerflV-0x5b1tkfEMMHpyVZLjglIpGm6VcKZ3QAgTkH3gOSDCOidPmT2jYeGYSCgc5xDFeHeHniuvs2g4DqzZ2el_2tslvDjurtVBTDZVMHCAUvxP0UXAFmp9QKCQtYqzXVQhQmMym5LqmgewBOveLDPKlAAyq3ZSgAS_kL', 'width': 1920}, {'height': 1080, 'html_attributions': ['<a href=\"https://maps.google.com/maps/contrib/115677059117269691596\">Luciano Toronto</a>'], 'photo_reference': 'AfLeUgPG_fe1x8QZrR6g9-Cf1axc7CFL8bNF9NFx5mrF0EzaQa6Qc6Cc1qLSjHwPSHpm6myM8lUksS-qhjpvQ0i-2pgW3ZFyDn7hM973ww05EBa4HF-tiz6WARsR5X-BlmEBHHdqf7shpx9tfK60QcYAoFWIVqDS2shifwsv51AUpEC8yP3y', 'width': 1920}, {'height': 3024, 'html_attributions': ['<a href=\"https://maps.google.com/maps/contrib/108983146564335289805\">Angela Whitlock</a>'], 'photo_reference': 'AfLeUgOQzSymsRcT-P08PdMifblJMCP0mk4kUZmaScTtIpJD3hfErGIb4H2HCr0acKA9cNql_rU2vtF2ZOqnFuT5Og7GBRrPvSSJL4cSrmFia39TPxFEdZCeGBrHCLvt7U4Bq_Yf2hqm3eAczLXRENnYEijU8zbHPfsQwSQ3zejFaeFgsfWj', 'width': 4032}, {'height': 3810, 'html_attributions': ['<a href=\"https://maps.google.com/maps/contrib/106426133210801918879\">Shania H</a>'], 'photo_reference': 'AfLeUgOcneAPPHQzyBTwfhousJxQ7qeUgfGD3Lgu8nuH59nAPUcMJ7e-p2Oy3LQSROiF09yEtqZIkETWsBd4WRgdxu48sUS5XadffHRzz8lpy3w_UVYfqo3EFPCEFEvcA9pbQ-svYvRspDtfqyO2D7dFI_YZEZhOldX6GOTQhT8GPXB8mtwX', 'width': 5707}, {'height': 3024, 'html_attributions': ['<a href=\"https://maps.google.com/maps/contrib/108983146564335289805\">Angela Whitlock</a>'], 'photo_reference': 'AfLeUgPw2HHgJomqg2kTfNW66OWTxwSm04-g3deJF4RhOrkUgGSzWkSKTsHRYdYB88F3yVSbCZmlT-gbAqCWPn43ihXgVCoNOjjWA0s23WGTUG07vG6noFf8QDTCezMQ3qiWQPBpP8p6G1A2SFfwyZ_mfY4FHo_rjGrRSdUDQRAy05INEwwK', 'width': 4032}, {'height': 3024, 'html_attributions': ['<a href=\"https://maps.google.com/maps/contrib/102685356151086132198\">Catherine Graham</a>'], 'photo_reference': 'AfLeUgN34kBQf4dMXbwoKAexKuHfwxRYrrEejPKgWRfzrbn1cMvjN4ZUTeN72RAminAth8IHDrB37WpbYJFtxwozrrePxmsDXk9hMCk2D7gugxuGxkMd9aeeq6gy-TrlTtu_u529GIZU3TeszpmrLyBMFVS4KRZum1lu3gn2oVNo8VbQlle4', 'width': 4032}, {'height': 4032, 'html_attributions': ['<a href=\"https://maps.google.com/maps/contrib/108983146564335289805\">Angela Whitlock</a>'], 'photo_reference': 'AfLeUgN_N6yvEREmKmBApzIwZzXOfuxJItz-9ClZZwOGGFr7iGMfC-z4Xln4s2vkx3-k7EIxPbjXsNb1XsZE2V8TZ6jLnGxrHd8-31g10Xeb0ZEtS9XOBhgN605blGAwh7gK-uhaNAuOjZR3Gl4BwrdAhZgFvpeffnSFGbWG3ur5kJE-rBMn', 'width': 3024}]}, 'status': 'OK'}\n",
            "Name: Fredericton\n",
            "Address: Fredericton, NB, Canada\n",
            "Photo URL: https://maps.googleapis.com/maps/api/place/photo?maxwidth=400&photoreference=AfLeUgOGjlidJQPxxYFVb9uiKAdJZZPJhVeGOmhNF94-eltOhaiThX9C2dJB_fgefXYpO9uYObzuIftNQvzh9-EjtSgDwaaW89p1iZvs1eoZnSHTGzYuyk4cXWMCVn7XE7weuz3vloe4jJnjJ9AemOngUUc-sWyukWvjGee6pRWes0r1iRIj&key=YOUR_API_KEY\n"
          ]
        }
      ]
    },
    {
      "cell_type": "markdown",
      "source": [
        "## Streaming - Youtube\n",
        "\n"
      ],
      "metadata": {
        "id": "Z7lKcIXgc339"
      }
    },
    {
      "cell_type": "markdown",
      "source": [
        "YouTube Data API can be used to collect data from YouTube, including live streaming data. You can use the API to search for videos or channels related to your favorite topic, and filter the results based on various parameters such as location, date, and video duration.\n",
        "\n",
        "To collect data for 1 minute on your favorite topic using the YouTube Data API, you can follow these general steps:\n",
        "\n",
        "\n",
        "\n",
        "1.   Obtain API credentials: You will need to obtain API credentials from the Google Cloud Console in order to use the YouTube Data API.\n",
        "\n",
        "2.   Install necessary libraries: You will need to install the google-auth and google-api-python-client libraries in order to make API requests in Python.\n",
        "\n",
        "3. Make the API call\n",
        "\n",
        "In thithe below code, we first set up the YouTube Data API client with our developer key. We then define our search parameters, such as the search query (q) and the maximum number of results to retrieve (max_results). We also set up an output file to save the search results in JSON format.\n",
        "\n",
        "We then start a loop to search for videos on YouTube for one minute. Within the loop, we call the search.list method to retrieve search results and add them to the search_results list. We also pause for 10 seconds between each API call to avoid hitting the API rate limit.\n",
        "\n",
        "After one minute, we write the search results to the output file and print a message indicating how many search results were retrieved and saved.\n",
        "\n",
        "Note that you will need to have a YouTube Data API key and install the google-api-python-client package to run this code. Also, be aware that the code above may need to be modified to comply with YouTube Data API usage policies and quotas."
      ],
      "metadata": {
        "id": "TFJ7yUQH8vAu"
      }
    },
    {
      "cell_type": "code",
      "source": [
        "#import statements\n",
        "import os\n",
        "import json\n",
        "import datetime\n",
        "import time\n",
        "import google.oauth2.credentials\n",
        "from googleapiclient.discovery import build\n",
        "from googleapiclient.errors import HttpError\n"
      ],
      "metadata": {
        "id": "3yRaU7fQ9YYY"
      },
      "execution_count": 14,
      "outputs": []
    },
    {
      "cell_type": "code",
      "source": [
        "\n",
        "# Set up the YouTube Data API client\n",
        "API_SERVICE_NAME = 'youtube'\n",
        "API_VERSION = 'v3'\n",
        "DEVELOPER_KEY = 'YOUR_API_KEY'\n",
        "\n",
        "youtube = build(API_SERVICE_NAME, API_VERSION, developerKey=DEVELOPER_KEY)\n",
        "\n",
        "# Define search parameters\n",
        "q = \"cats\"  # Set the search query to \"cats\"\n",
        "max_results = 50  # Maximum number of results to retrieve in a single API call\n",
        "\n",
        "# Set up the JSON output file\n",
        "file_name = 'youtube_streaming_data.json'\n",
        "\n",
        "# Start time\n",
        "start_time = datetime.datetime.now()\n",
        "\n",
        "# Initialize an empty list to store the search results\n",
        "search_results = []\n",
        "\n",
        "# Search for videos on YouTube for 1 minute\n",
        "while (datetime.datetime.now() - start_time).seconds < 60:\n",
        "    try:\n",
        "        # Call the search.list method to retrieve search results\n",
        "        search_response = youtube.search().list(\n",
        "            q=q,\n",
        "            type='video',\n",
        "            part='id,snippet',\n",
        "            maxResults=max_results\n",
        "        ).execute()\n",
        "\n",
        "        # Add the retrieved search results to the search_results list\n",
        "        search_results.extend(search_response['items'])\n",
        "\n",
        "        # Pause for 10 seconds to avoid hitting the API rate limit\n",
        "        time.sleep(10)\n",
        "    \n",
        "    except HttpError as error:\n",
        "        print(f'An HTTP error {error.resp.status} occurred: {error.content}')\n",
        "        break\n",
        "\n",
        "# Write the search results to the output file\n",
        "with open(file_name, 'w', encoding='utf-8') as f:\n",
        "    json.dump(search_results, f, ensure_ascii=False, indent=4)\n",
        "\n",
        "print(f'{len(search_results)} search results were retrieved and saved to {os.getcwd()}/{file_name}')\n"
      ],
      "metadata": {
        "colab": {
          "base_uri": "https://localhost:8080/"
        },
        "id": "JtC2rfQLFLPc",
        "outputId": "5c04f861-f952-43ae-98bc-f33bd6ea8fe9"
      },
      "execution_count": 28,
      "outputs": [
        {
          "output_type": "stream",
          "name": "stdout",
          "text": [
            "300 search results were retrieved and saved to /content/youtube_streaming_data.json\n"
          ]
        }
      ]
    }
  ]
}